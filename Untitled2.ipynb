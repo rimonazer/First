{
 "cells": [
  {
   "cell_type": "markdown",
   "id": "f914c932",
   "metadata": {},
   "source": [
    "<h1>My Jupyter Notebook on IBM Watson Studio<h1>"
   ]
  },
  {
   "cell_type": "markdown",
   "id": "61a56a98",
   "metadata": {},
   "source": [
    "<h2>Rimon Azer<h2> IT Project manager\n",
    "    "
   ]
  },
  {
   "cell_type": "markdown",
   "id": "88613507",
   "metadata": {},
   "source": [
    "<h5>Iam interested in data science because I need to create a unique idea in AI field and this is the first step<h5>"
   ]
  },
  {
   "cell_type": "markdown",
   "id": "78cbdb1e",
   "metadata": {},
   "source": [
    "<h3> This code will provide the simple mathematic calculate by python <h3>"
   ]
  },
  {
   "cell_type": "code",
   "execution_count": 4,
   "id": "6476f879",
   "metadata": {},
   "outputs": [
    {
     "name": "stdout",
     "output_type": "stream",
     "text": [
      "2\n"
     ]
    }
   ],
   "source": [
    "s=1+1\n",
    "\n",
    "print (s)"
   ]
  },
  {
   "cell_type": "markdown",
   "id": "1e97f284",
   "metadata": {},
   "source": [
    "* one \n",
    "* two\n",
    "* three\n",
    "* four \n",
    "* five \n",
    "\n",
    "| Stretch/Untouched | ProbDistribution | Accuracy |\n",
    "| :- | -: | :-: |\n",
    "| 1 | 2 | 3 | 4 | 5 "
   ]
  },
  {
   "cell_type": "code",
   "execution_count": null,
   "id": "22cc023a",
   "metadata": {},
   "outputs": [],
   "source": []
  }
 ],
 "metadata": {
  "kernelspec": {
   "display_name": "Python 3 (ipykernel)",
   "language": "python",
   "name": "python3"
  },
  "language_info": {
   "codemirror_mode": {
    "name": "ipython",
    "version": 3
   },
   "file_extension": ".py",
   "mimetype": "text/x-python",
   "name": "python",
   "nbconvert_exporter": "python",
   "pygments_lexer": "ipython3",
   "version": "3.10.4"
  }
 },
 "nbformat": 4,
 "nbformat_minor": 5
}
